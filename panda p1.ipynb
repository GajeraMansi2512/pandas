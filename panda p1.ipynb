{
 "cells": [
  {
   "cell_type": "code",
   "execution_count": 3,
   "id": "e69856eb",
   "metadata": {},
   "outputs": [],
   "source": [
    "import pandas as pd\n",
    "import matplotlib.pyplot as plt\n",
    "import numpy as np"
   ]
  },
  {
   "cell_type": "code",
   "execution_count": 2,
   "id": "d9a6d6e8",
   "metadata": {},
   "outputs": [
    {
     "name": "stdout",
     "output_type": "stream",
     "text": [
      "2.0.3\n"
     ]
    }
   ],
   "source": [
    "print(pd.__version__)"
   ]
  },
  {
   "cell_type": "code",
   "execution_count": 13,
   "id": "a138b7cc",
   "metadata": {},
   "outputs": [
    {
     "name": "stdout",
     "output_type": "stream",
     "text": [
      "5    mansi\n",
      "6     vraj\n",
      "dtype: object\n"
     ]
    }
   ],
   "source": [
    "a=['mansi','vraj']\n",
    "s1=pd.Series(a,index=[5,6])\n",
    "print(s1)"
   ]
  },
  {
   "cell_type": "code",
   "execution_count": 12,
   "id": "13d9694b",
   "metadata": {},
   "outputs": [
    {
     "name": "stdout",
     "output_type": "stream",
     "text": [
      "0    mansi\n",
      "1     vraj\n",
      "dtype: object\n"
     ]
    }
   ],
   "source": [
    "a=['mansi','vraj']\n",
    "s1=pd.Series(a)\n",
    "print(s1)"
   ]
  },
  {
   "cell_type": "code",
   "execution_count": 18,
   "id": "8d19e7b7",
   "metadata": {},
   "outputs": [
    {
     "name": "stdout",
     "output_type": "stream",
     "text": [
      "i1    1\n",
      "i2    2\n",
      "i3    3\n",
      "i4    4\n",
      "dtype: int64\n"
     ]
    }
   ],
   "source": [
    "a=[1,2,3,4]\n",
    "s1=pd.Series(a,index=['i1','i2','i3','i4'])            # print value with index\n",
    "print(s1)"
   ]
  },
  {
   "cell_type": "code",
   "execution_count": 19,
   "id": "3a302865",
   "metadata": {},
   "outputs": [
    {
     "name": "stdout",
     "output_type": "stream",
     "text": [
      "1\n"
     ]
    }
   ],
   "source": [
    "print(s1['i1'])                             #single data from the series\n"
   ]
  },
  {
   "cell_type": "code",
   "execution_count": 21,
   "id": "5d01ebba",
   "metadata": {},
   "outputs": [
    {
     "name": "stdout",
     "output_type": "stream",
     "text": [
      "AIML        4\n",
      "CCN     mansi\n",
      "WS          3\n",
      "CS          4\n",
      "dtype: object\n"
     ]
    }
   ],
   "source": [
    "keyVal={\"AIML\":'4',\"CCN\":\"mansi\",\"WS\":3,\"CS\":4}     #create a series with key value pair\n",
    "sKeyVal=pd.Series(keyVal)\n",
    "print(sKeyVal)"
   ]
  },
  {
   "cell_type": "code",
   "execution_count": 24,
   "id": "80119077",
   "metadata": {},
   "outputs": [
    {
     "name": "stdout",
     "output_type": "stream",
     "text": [
      "  subject  marks\n",
      "0    aiml     90\n",
      "1     ccn     89\n",
      "2      ws     95\n",
      "3      cs     94\n"
     ]
    }
   ],
   "source": [
    "student={\"subject\":[\"aiml\",\"ccn\",\"ws\",\"cs\"],\n",
    "        \"marks\":[90,89,95,94]}\n",
    "sstud=pd.DataFrame(student)                         # data in form of row and column\n",
    "print(sstud)"
   ]
  },
  {
   "cell_type": "code",
   "execution_count": 51,
   "id": "a44be1cc",
   "metadata": {},
   "outputs": [
    {
     "name": "stdout",
     "output_type": "stream",
     "text": [
      "subject    ws\n",
      "marks      95\n",
      "Name: 2, dtype: object\n"
     ]
    }
   ],
   "source": [
    "print(sstud.loc[2])                                                    # fatch single row"
   ]
  },
  {
   "cell_type": "code",
   "execution_count": 25,
   "id": "16d199d1",
   "metadata": {},
   "outputs": [
    {
     "name": "stdout",
     "output_type": "stream",
     "text": [
      "   id     name         dob          course   per\n",
      "0   1    mansi  25-12-2002           mscit  90.0\n",
      "1   2  hetasvi  14-06-2003           mscit  88.0\n",
      "2   3   ridhhi  23-04-2003           mscit  87.0\n",
      "3   4     vraj  31-04-2006          b.tech  85.0\n",
      "4   5     liza  03-08-2002  cyber security  83.0\n",
      "5   6      abc  07-12-1900             123   NaN\n"
     ]
    }
   ],
   "source": [
    "studdata=pd.read_csv('C:\\\\Users\\\\Mansi\\\\p1.csv')                       # print csv file\n",
    "print(studdata)"
   ]
  },
  {
   "cell_type": "code",
   "execution_count": 21,
   "id": "8245e13f",
   "metadata": {},
   "outputs": [
    {
     "name": "stdout",
     "output_type": "stream",
     "text": [
      "    id            name         dob course  per\n",
      "5  6.0             abc  07-12-1900    123  NaN\n",
      "6  NaN             NaN         NaN    NaN  NaN\n",
      "7  NaN             NaN         NaN    NaN  NaN\n",
      "8  NaN             NaN         NaN    NaN  NaN\n",
      "9  NaN  C:\\Users\\Mansi         NaN    NaN  NaN\n"
     ]
    }
   ],
   "source": [
    "print(studdata.tail())                # last 5 line will print"
   ]
  },
  {
   "cell_type": "code",
   "execution_count": 22,
   "id": "c6d7157b",
   "metadata": {},
   "outputs": [
    {
     "name": "stdout",
     "output_type": "stream",
     "text": [
      "id               3.0\n",
      "name          ridhhi\n",
      "dob       23-04-2003\n",
      "course         mscit\n",
      "per             87.0\n",
      "Name: 2, dtype: object\n"
     ]
    }
   ],
   "source": [
    "print(studdata.loc[2])                                # print data of given index"
   ]
  },
  {
   "cell_type": "code",
   "execution_count": 23,
   "id": "bc2d6f91",
   "metadata": {},
   "outputs": [
    {
     "name": "stdout",
     "output_type": "stream",
     "text": [
      "<class 'pandas.core.frame.DataFrame'>\n",
      "RangeIndex: 10 entries, 0 to 9\n",
      "Data columns (total 5 columns):\n",
      " #   Column  Non-Null Count  Dtype  \n",
      "---  ------  --------------  -----  \n",
      " 0   id      6 non-null      float64\n",
      " 1   name    7 non-null      object \n",
      " 2   dob     6 non-null      object \n",
      " 3   course  6 non-null      object \n",
      " 4   per     5 non-null      float64\n",
      "dtypes: float64(2), object(3)\n",
      "memory usage: 532.0+ bytes\n",
      "None\n"
     ]
    }
   ],
   "source": [
    "print(studdata.info())                                 # print the info of data"
   ]
  },
  {
   "cell_type": "code",
   "execution_count": 24,
   "id": "325cd66a",
   "metadata": {},
   "outputs": [
    {
     "name": "stdout",
     "output_type": "stream",
     "text": [
      "    id     name         dob          course   per\n",
      "0  1.0    mansi  25-12-2002           mscit  90.0\n",
      "1  2.0  hetasvi  14-06-2003           mscit  88.0\n",
      "2  3.0   ridhhi  23-04-2003           mscit  87.0\n",
      "3  4.0     vraj  31-04-2006          b.tech  85.0\n",
      "4  5.0     liza  03-08-2002  cyber security  83.0\n"
     ]
    }
   ],
   "source": [
    "newstudent=studdata.dropna()\n",
    "print(newstudent)                                    # null value data will be deleted"
   ]
  },
  {
   "cell_type": "code",
   "execution_count": 26,
   "id": "2518b066",
   "metadata": {},
   "outputs": [
    {
     "name": "stdout",
     "output_type": "stream",
     "text": [
      "     id            name         dob          course   per\n",
      "0   1.0           mansi  25-12-2002           mscit  90.0\n",
      "1   2.0         hetasvi  14-06-2003           mscit  88.0\n",
      "2   3.0          ridhhi  23-04-2003           mscit  87.0\n",
      "3   4.0            vraj  31-04-2006          b.tech  85.0\n",
      "4   5.0            liza  03-08-2002  cyber security  83.0\n",
      "5   6.0             abc  07-12-1900             123  30.0\n",
      "6  30.0              30          30              30  30.0\n",
      "7  30.0              30          30              30  30.0\n",
      "8  30.0              30          30              30  30.0\n",
      "9  30.0  C:\\Users\\Mansi          30              30  30.0\n"
     ]
    }
   ],
   "source": [
    "filledstud=studdata.fillna(30)\n",
    "print(filledstud)                                           # null record will fill"
   ]
  },
  {
   "cell_type": "code",
   "execution_count": 32,
   "id": "b9d7db4d",
   "metadata": {},
   "outputs": [
    {
     "name": "stdout",
     "output_type": "stream",
     "text": [
      "0             mscit\n",
      "1             mscit\n",
      "2             mscit\n",
      "3            b.tech\n",
      "4    cyber security\n",
      "5               123\n",
      "6               mca\n",
      "7               mca\n",
      "8               mca\n",
      "9               mca\n",
      "Name: course, dtype: object\n"
     ]
    }
   ],
   "source": [
    "new=studdata[\"course\"].fillna(\"mca\")\n",
    "print(new)                                             # print given string where data is null"
   ]
  },
  {
   "cell_type": "code",
   "execution_count": 34,
   "id": "c3393498",
   "metadata": {},
   "outputs": [
    {
     "name": "stdout",
     "output_type": "stream",
     "text": [
      "    id            name         dob          course   per\n",
      "0  1.0           mansi  25-12-2002           mscit  90.0\n",
      "1  2.0         hetasvi  14-06-2003           mscit  88.0\n",
      "2  3.0          ridhhi  23-04-2003           mscit  87.0\n",
      "3  4.0            vraj  31-04-2006          b.tech  85.0\n",
      "4  5.0            liza  03-08-2002  cyber security  83.0\n",
      "5  6.0             abc  07-12-1900             123   NaN\n",
      "6  NaN             NaN         NaN             mca   NaN\n",
      "7  NaN             NaN         NaN             mca   NaN\n",
      "8  NaN             NaN         NaN             mca   NaN\n",
      "9  NaN  C:\\Users\\Mansi         NaN             mca   NaN\n"
     ]
    }
   ],
   "source": [
    "studdata[\"course\"].fillna(\"mca\",inplace=True)\n",
    "print(studdata)"
   ]
  },
  {
   "cell_type": "code",
   "execution_count": 26,
   "id": "9d8f96b8",
   "metadata": {},
   "outputs": [
    {
     "name": "stdout",
     "output_type": "stream",
     "text": [
      "   id     name         dob          course   per\n",
      "0   1    mansi  25-12-2002           mscit  90.0\n",
      "1   2  hetasvi  14-06-2003           mscit  88.0\n",
      "2   3   ridhhi  23-04-2003           mscit  87.0\n",
      "3   4     vraj  31-04-2006          b.tech  85.0\n",
      "4   5     liza  03-08-2002  cyber security  83.0\n",
      "5   6      abc  07-12-1900             123  55.0\n"
     ]
    }
   ],
   "source": [
    "studdata[\"per\"].fillna(55,inplace=True)\n",
    "print(studdata)"
   ]
  },
  {
   "cell_type": "code",
   "execution_count": 37,
   "id": "b6f4a882",
   "metadata": {},
   "outputs": [
    {
     "name": "stdout",
     "output_type": "stream",
     "text": [
      "mean:70.8\n"
     ]
    }
   ],
   "source": [
    "mean=studdata[\"per\"].mean()                        # find mean \n",
    "print(f\"mean:{mean}\")"
   ]
  },
  {
   "cell_type": "code",
   "execution_count": 31,
   "id": "b0d03799",
   "metadata": {},
   "outputs": [
    {
     "name": "stdout",
     "output_type": "stream",
     "text": [
      "median 86.0\n"
     ]
    }
   ],
   "source": [
    "median=studdata[\"per\"].median()                      # find median\n",
    "print(\"median\",median)"
   ]
  },
  {
   "cell_type": "code",
   "execution_count": 32,
   "id": "7332f193",
   "metadata": {},
   "outputs": [
    {
     "name": "stdout",
     "output_type": "stream",
     "text": [
      "85.0\n"
     ]
    }
   ],
   "source": [
    "mode=studdata[\"per\"].mode()                          # find mode\n",
    "print(mode[2])"
   ]
  },
  {
   "cell_type": "code",
   "execution_count": 52,
   "id": "acdf457e",
   "metadata": {},
   "outputs": [
    {
     "name": "stdout",
     "output_type": "stream",
     "text": [
      "    id     name         dob          course   per\n",
      "0  1.0    mansi  25-12-2002           mscit  90.0\n",
      "1  2.0  hetasvi  14-06-2003           mscit  88.0\n",
      "2  3.0   ridhhi  23-04-2003           mscit  87.0\n",
      "3  4.0     vraj  31-04-2006          b.tech  85.0\n",
      "4  5.0     liza  03-08-2002  cyber security  83.0\n",
      "5  6.0      abc  03-02-1900             NaN   NaN\n",
      "6  NaN      NaN         NaN             NaN   NaN\n",
      "7  7.0      NaN         NaN             NaN   NaN\n"
     ]
    }
   ],
   "source": [
    "stud=pd.read_csv('C:\\\\Users\\\\Mansi\\\\p2.csv')\n",
    "print(stud)"
   ]
  },
  {
   "cell_type": "code",
   "execution_count": 58,
   "id": "1105f43e",
   "metadata": {},
   "outputs": [
    {
     "name": "stdout",
     "output_type": "stream",
     "text": [
      "            id  CustomerId         Surname  CreditScore Geography  Gender  \\\n",
      "0            0    15674932  Okwudilichukwu          668    France    Male   \n",
      "1            1    15749177   Okwudiliolisa          627    France    Male   \n",
      "2            2    15694510           Hsueh          678    France    Male   \n",
      "3            3    15741417             Kao          581    France    Male   \n",
      "4            4    15766172       Chiemenam          716     Spain    Male   \n",
      "...        ...         ...             ...          ...       ...     ...   \n",
      "165029  165029    15667085            Meng          667     Spain  Female   \n",
      "165030  165030    15665521       Okechukwu          792    France    Male   \n",
      "165031  165031    15664752            Hsia          565    France    Male   \n",
      "165032  165032    15689614          Hsiung          554     Spain  Female   \n",
      "165033  165033    15732798         Ulyanov          850    France    Male   \n",
      "\n",
      "         Age  Tenure    Balance  NumOfProducts  HasCrCard  IsActiveMember  \\\n",
      "0       33.0       3       0.00              2        1.0             0.0   \n",
      "1       33.0       1       0.00              2        1.0             1.0   \n",
      "2       40.0      10       0.00              2        1.0             0.0   \n",
      "3       34.0       2  148882.54              1        1.0             1.0   \n",
      "4       33.0       5       0.00              2        1.0             1.0   \n",
      "...      ...     ...        ...            ...        ...             ...   \n",
      "165029  33.0       2       0.00              1        1.0             1.0   \n",
      "165030  35.0       3       0.00              1        0.0             0.0   \n",
      "165031  31.0       5       0.00              1        1.0             1.0   \n",
      "165032  30.0       7  161533.00              1        0.0             1.0   \n",
      "165033  31.0       1       0.00              1        1.0             0.0   \n",
      "\n",
      "        EstimatedSalary  Exited  \n",
      "0             181449.97       0  \n",
      "1              49503.50       0  \n",
      "2             184866.69       0  \n",
      "3              84560.88       0  \n",
      "4              15068.83       0  \n",
      "...                 ...     ...  \n",
      "165029        131834.75       0  \n",
      "165030        131834.45       0  \n",
      "165031        127429.56       0  \n",
      "165032         71173.03       0  \n",
      "165033         61581.79       1  \n",
      "\n",
      "[165034 rows x 14 columns]\n"
     ]
    }
   ],
   "source": [
    "stud=pd.read_csv('C:\\\\Users\\\\Mansi\\\\train.csv')\n",
    "print(stud)"
   ]
  },
  {
   "cell_type": "code",
   "execution_count": 66,
   "id": "2e054b11",
   "metadata": {},
   "outputs": [
    {
     "name": "stdout",
     "output_type": "stream",
     "text": [
      "median 37.0\n"
     ]
    }
   ],
   "source": [
    "median=stud[\"Age\"].median()\n",
    "print(\"median\",median)"
   ]
  },
  {
   "cell_type": "code",
   "execution_count": 65,
   "id": "1b306fc4",
   "metadata": {},
   "outputs": [
    {
     "name": "stdout",
     "output_type": "stream",
     "text": [
      "mean:38.12588787764945\n"
     ]
    }
   ],
   "source": [
    "mean=stud[\"Age\"].mean()\n",
    "print(f\"mean:{mean}\")"
   ]
  },
  {
   "cell_type": "code",
   "execution_count": 5,
   "id": "720e63e1",
   "metadata": {},
   "outputs": [
    {
     "data": {
      "text/plain": [
       "Index(['id', 'CustomerId', 'Surname', 'CreditScore', 'Geography', 'Gender',\n",
       "       'Age', 'Tenure', 'Balance', 'NumOfProducts', 'HasCrCard',\n",
       "       'IsActiveMember', 'EstimatedSalary', 'Exited'],\n",
       "      dtype='object')"
      ]
     },
     "execution_count": 5,
     "metadata": {},
     "output_type": "execute_result"
    }
   ],
   "source": [
    "stud.columns                          # give all the column name in table"
   ]
  },
  {
   "cell_type": "code",
   "execution_count": 33,
   "id": "1ef15be0",
   "metadata": {},
   "outputs": [
    {
     "name": "stdout",
     "output_type": "stream",
     "text": [
      "       #                   Name   Type 1  Type 2  Total  HP  Attack  Defense  \\\n",
      "0      1              Bulbasaur    Grass  Poison    318  45      49       49   \n",
      "1      2                Ivysaur    Grass  Poison    405  60      62       63   \n",
      "2      3               Venusaur    Grass  Poison    525  80      82       83   \n",
      "3      3  VenusaurMega Venusaur    Grass  Poison    625  80     100      123   \n",
      "4      4             Charmander     Fire     NaN    309  39      52       43   \n",
      "..   ...                    ...      ...     ...    ...  ..     ...      ...   \n",
      "795  719                Diancie     Rock   Fairy    600  50     100      150   \n",
      "796  719    DiancieMega Diancie     Rock   Fairy    700  50     160      110   \n",
      "797  720    HoopaHoopa Confined  Psychic   Ghost    600  80     110       60   \n",
      "798  720     HoopaHoopa Unbound  Psychic    Dark    680  80     160       60   \n",
      "799  721              Volcanion     Fire   Water    600  80     110      120   \n",
      "\n",
      "     Sp. Atk  Sp. Def  Speed  Generation  Legendary  \n",
      "0         65       65     45           1      False  \n",
      "1         80       80     60           1      False  \n",
      "2        100      100     80           1      False  \n",
      "3        122      120     80           1      False  \n",
      "4         60       50     65           1      False  \n",
      "..       ...      ...    ...         ...        ...  \n",
      "795      100      150     50           6       True  \n",
      "796      160      110    110           6       True  \n",
      "797      150      130     70           6       True  \n",
      "798      170      130     80           6       True  \n",
      "799      130       90     70           6       True  \n",
      "\n",
      "[800 rows x 13 columns]\n"
     ]
    }
   ],
   "source": [
    "stud=pd.read_csv('C:\\\\Users\\\\Mansi\\\\pokemon.csv')\n",
    "print(stud)"
   ]
  },
  {
   "cell_type": "code",
   "execution_count": 7,
   "id": "7dabfcef",
   "metadata": {},
   "outputs": [
    {
     "data": {
      "text/plain": [
       "Index(['#', 'Name', 'Type 1', 'Type 2', 'Total', 'HP', 'Attack', 'Defense',\n",
       "       'Sp. Atk', 'Sp. Def', 'Speed', 'Generation', 'Legendary'],\n",
       "      dtype='object')"
      ]
     },
     "execution_count": 7,
     "metadata": {},
     "output_type": "execute_result"
    }
   ],
   "source": [
    "stud.columns                           # give column name in table"
   ]
  },
  {
   "cell_type": "code",
   "execution_count": 38,
   "id": "c7e37e7e",
   "metadata": {},
   "outputs": [
    {
     "name": "stdout",
     "output_type": "stream",
     "text": [
      "   #                   Name Type 1  Type 2  Total  HP  Attack  Defense  \\\n",
      "0  1              Bulbasaur  Grass  Poison    318  45      49       49   \n",
      "1  2                Ivysaur  Grass  Poison    405  60      62       63   \n",
      "2  3               Venusaur  Grass  Poison    525  80      82       83   \n",
      "3  3  VenusaurMega Venusaur  Grass  Poison    625  80     100      123   \n",
      "4  4             Charmander   Fire     NaN    309  39      52       43   \n",
      "\n",
      "   Sp. Atk  Sp. Def  Speed  Generation  Legendary  total  \n",
      "0       65       65     45           1      False    143  \n",
      "1       80       80     60           1      False    185  \n",
      "2      100      100     80           1      False    245  \n",
      "3      122      120     80           1      False    303  \n",
      "4       60       50     65           1      False    134  \n"
     ]
    }
   ],
   "source": [
    "stud['total']=stud['HP']+stud['Attack']+stud['Defense']                  # print total of given sub\n",
    "print(stud.head(5))"
   ]
  },
  {
   "cell_type": "code",
   "execution_count": 47,
   "id": "44f35f2b",
   "metadata": {},
   "outputs": [
    {
     "data": {
      "text/html": [
       "<div>\n",
       "<style scoped>\n",
       "    .dataframe tbody tr th:only-of-type {\n",
       "        vertical-align: middle;\n",
       "    }\n",
       "\n",
       "    .dataframe tbody tr th {\n",
       "        vertical-align: top;\n",
       "    }\n",
       "\n",
       "    .dataframe thead th {\n",
       "        text-align: right;\n",
       "    }\n",
       "</style>\n",
       "<table border=\"1\" class=\"dataframe\">\n",
       "  <thead>\n",
       "    <tr style=\"text-align: right;\">\n",
       "      <th></th>\n",
       "      <th>#</th>\n",
       "      <th>Name</th>\n",
       "      <th>Type 1</th>\n",
       "      <th>Type 2</th>\n",
       "      <th>Total</th>\n",
       "      <th>HP</th>\n",
       "      <th>Attack</th>\n",
       "      <th>Defense</th>\n",
       "      <th>Sp. Atk</th>\n",
       "      <th>Sp. Def</th>\n",
       "      <th>Speed</th>\n",
       "      <th>Generation</th>\n",
       "      <th>Legendary</th>\n",
       "      <th>total</th>\n",
       "      <th>avg</th>\n",
       "    </tr>\n",
       "  </thead>\n",
       "  <tbody>\n",
       "    <tr>\n",
       "      <th>0</th>\n",
       "      <td>1</td>\n",
       "      <td>Bulbasaur</td>\n",
       "      <td>Grass</td>\n",
       "      <td>Poison</td>\n",
       "      <td>318</td>\n",
       "      <td>45</td>\n",
       "      <td>49</td>\n",
       "      <td>49</td>\n",
       "      <td>65</td>\n",
       "      <td>65</td>\n",
       "      <td>45</td>\n",
       "      <td>1</td>\n",
       "      <td>False</td>\n",
       "      <td>143</td>\n",
       "      <td>47.666667</td>\n",
       "    </tr>\n",
       "    <tr>\n",
       "      <th>1</th>\n",
       "      <td>2</td>\n",
       "      <td>Ivysaur</td>\n",
       "      <td>Grass</td>\n",
       "      <td>Poison</td>\n",
       "      <td>405</td>\n",
       "      <td>60</td>\n",
       "      <td>62</td>\n",
       "      <td>63</td>\n",
       "      <td>80</td>\n",
       "      <td>80</td>\n",
       "      <td>60</td>\n",
       "      <td>1</td>\n",
       "      <td>False</td>\n",
       "      <td>185</td>\n",
       "      <td>61.666667</td>\n",
       "    </tr>\n",
       "    <tr>\n",
       "      <th>2</th>\n",
       "      <td>3</td>\n",
       "      <td>Venusaur</td>\n",
       "      <td>Grass</td>\n",
       "      <td>Poison</td>\n",
       "      <td>525</td>\n",
       "      <td>80</td>\n",
       "      <td>82</td>\n",
       "      <td>83</td>\n",
       "      <td>100</td>\n",
       "      <td>100</td>\n",
       "      <td>80</td>\n",
       "      <td>1</td>\n",
       "      <td>False</td>\n",
       "      <td>245</td>\n",
       "      <td>81.666667</td>\n",
       "    </tr>\n",
       "    <tr>\n",
       "      <th>3</th>\n",
       "      <td>3</td>\n",
       "      <td>VenusaurMega Venusaur</td>\n",
       "      <td>Grass</td>\n",
       "      <td>Poison</td>\n",
       "      <td>625</td>\n",
       "      <td>80</td>\n",
       "      <td>100</td>\n",
       "      <td>123</td>\n",
       "      <td>122</td>\n",
       "      <td>120</td>\n",
       "      <td>80</td>\n",
       "      <td>1</td>\n",
       "      <td>False</td>\n",
       "      <td>303</td>\n",
       "      <td>101.000000</td>\n",
       "    </tr>\n",
       "    <tr>\n",
       "      <th>4</th>\n",
       "      <td>4</td>\n",
       "      <td>Charmander</td>\n",
       "      <td>Fire</td>\n",
       "      <td>NaN</td>\n",
       "      <td>309</td>\n",
       "      <td>39</td>\n",
       "      <td>52</td>\n",
       "      <td>43</td>\n",
       "      <td>60</td>\n",
       "      <td>50</td>\n",
       "      <td>65</td>\n",
       "      <td>1</td>\n",
       "      <td>False</td>\n",
       "      <td>134</td>\n",
       "      <td>44.666667</td>\n",
       "    </tr>\n",
       "  </tbody>\n",
       "</table>\n",
       "</div>"
      ],
      "text/plain": [
       "   #                   Name Type 1  Type 2  Total  HP  Attack  Defense  \\\n",
       "0  1              Bulbasaur  Grass  Poison    318  45      49       49   \n",
       "1  2                Ivysaur  Grass  Poison    405  60      62       63   \n",
       "2  3               Venusaur  Grass  Poison    525  80      82       83   \n",
       "3  3  VenusaurMega Venusaur  Grass  Poison    625  80     100      123   \n",
       "4  4             Charmander   Fire     NaN    309  39      52       43   \n",
       "\n",
       "   Sp. Atk  Sp. Def  Speed  Generation  Legendary  total         avg  \n",
       "0       65       65     45           1      False    143   47.666667  \n",
       "1       80       80     60           1      False    185   61.666667  \n",
       "2      100      100     80           1      False    245   81.666667  \n",
       "3      122      120     80           1      False    303  101.000000  \n",
       "4       60       50     65           1      False    134   44.666667  "
      ]
     },
     "execution_count": 47,
     "metadata": {},
     "output_type": "execute_result"
    }
   ],
   "source": [
    "stud['avg']=(stud['total'])/3\n",
    "stud.head(5)                                     # print avg"
   ]
  },
  {
   "cell_type": "code",
   "execution_count": 40,
   "id": "b31d4bee",
   "metadata": {},
   "outputs": [
    {
     "name": "stdout",
     "output_type": "stream",
     "text": [
      "       #                   Name   Type 1  Type 2  Total  HP  Attack  Defense  \\\n",
      "0      1              Bulbasaur    Grass  Poison    318  45      49       49   \n",
      "1      2                Ivysaur    Grass  Poison    405  60      62       63   \n",
      "2      3               Venusaur    Grass  Poison    525  80      82       83   \n",
      "3      3  VenusaurMega Venusaur    Grass  Poison    625  80     100      123   \n",
      "4      4             Charmander     Fire     NaN    309  39      52       43   \n",
      "..   ...                    ...      ...     ...    ...  ..     ...      ...   \n",
      "795  719                Diancie     Rock   Fairy    600  50     100      150   \n",
      "796  719    DiancieMega Diancie     Rock   Fairy    700  50     160      110   \n",
      "797  720    HoopaHoopa Confined  Psychic   Ghost    600  80     110       60   \n",
      "798  720     HoopaHoopa Unbound  Psychic    Dark    680  80     160       60   \n",
      "799  721              Volcanion     Fire   Water    600  80     110      120   \n",
      "\n",
      "     Sp. Atk  Sp. Def  Speed  Generation  Legendary  total         per  \n",
      "0         65       65     45           1      False    143   47.666667  \n",
      "1         80       80     60           1      False    185   61.666667  \n",
      "2        100      100     80           1      False    245   81.666667  \n",
      "3        122      120     80           1      False    303  101.000000  \n",
      "4         60       50     65           1      False    134   44.666667  \n",
      "..       ...      ...    ...         ...        ...    ...         ...  \n",
      "795      100      150     50           6       True    300  100.000000  \n",
      "796      160      110    110           6       True    320  106.666667  \n",
      "797      150      130     70           6       True    250   83.333333  \n",
      "798      170      130     80           6       True    300  100.000000  \n",
      "799      130       90     70           6       True    310  103.333333  \n",
      "\n",
      "[800 rows x 15 columns]\n"
     ]
    },
    {
     "data": {
      "text/html": [
       "<div>\n",
       "<style scoped>\n",
       "    .dataframe tbody tr th:only-of-type {\n",
       "        vertical-align: middle;\n",
       "    }\n",
       "\n",
       "    .dataframe tbody tr th {\n",
       "        vertical-align: top;\n",
       "    }\n",
       "\n",
       "    .dataframe thead th {\n",
       "        text-align: right;\n",
       "    }\n",
       "</style>\n",
       "<table border=\"1\" class=\"dataframe\">\n",
       "  <thead>\n",
       "    <tr style=\"text-align: right;\">\n",
       "      <th></th>\n",
       "      <th>#</th>\n",
       "      <th>Name</th>\n",
       "      <th>Type 1</th>\n",
       "      <th>Type 2</th>\n",
       "      <th>Total</th>\n",
       "      <th>HP</th>\n",
       "      <th>Attack</th>\n",
       "      <th>Defense</th>\n",
       "      <th>Sp. Atk</th>\n",
       "      <th>Sp. Def</th>\n",
       "      <th>Speed</th>\n",
       "      <th>Generation</th>\n",
       "      <th>Legendary</th>\n",
       "      <th>total</th>\n",
       "      <th>per</th>\n",
       "    </tr>\n",
       "  </thead>\n",
       "  <tbody>\n",
       "    <tr>\n",
       "      <th>0</th>\n",
       "      <td>1</td>\n",
       "      <td>Bulbasaur</td>\n",
       "      <td>Grass</td>\n",
       "      <td>Poison</td>\n",
       "      <td>318</td>\n",
       "      <td>45</td>\n",
       "      <td>49</td>\n",
       "      <td>49</td>\n",
       "      <td>65</td>\n",
       "      <td>65</td>\n",
       "      <td>45</td>\n",
       "      <td>1</td>\n",
       "      <td>False</td>\n",
       "      <td>143</td>\n",
       "      <td>47.666667</td>\n",
       "    </tr>\n",
       "    <tr>\n",
       "      <th>1</th>\n",
       "      <td>2</td>\n",
       "      <td>Ivysaur</td>\n",
       "      <td>Grass</td>\n",
       "      <td>Poison</td>\n",
       "      <td>405</td>\n",
       "      <td>60</td>\n",
       "      <td>62</td>\n",
       "      <td>63</td>\n",
       "      <td>80</td>\n",
       "      <td>80</td>\n",
       "      <td>60</td>\n",
       "      <td>1</td>\n",
       "      <td>False</td>\n",
       "      <td>185</td>\n",
       "      <td>61.666667</td>\n",
       "    </tr>\n",
       "    <tr>\n",
       "      <th>2</th>\n",
       "      <td>3</td>\n",
       "      <td>Venusaur</td>\n",
       "      <td>Grass</td>\n",
       "      <td>Poison</td>\n",
       "      <td>525</td>\n",
       "      <td>80</td>\n",
       "      <td>82</td>\n",
       "      <td>83</td>\n",
       "      <td>100</td>\n",
       "      <td>100</td>\n",
       "      <td>80</td>\n",
       "      <td>1</td>\n",
       "      <td>False</td>\n",
       "      <td>245</td>\n",
       "      <td>81.666667</td>\n",
       "    </tr>\n",
       "    <tr>\n",
       "      <th>3</th>\n",
       "      <td>3</td>\n",
       "      <td>VenusaurMega Venusaur</td>\n",
       "      <td>Grass</td>\n",
       "      <td>Poison</td>\n",
       "      <td>625</td>\n",
       "      <td>80</td>\n",
       "      <td>100</td>\n",
       "      <td>123</td>\n",
       "      <td>122</td>\n",
       "      <td>120</td>\n",
       "      <td>80</td>\n",
       "      <td>1</td>\n",
       "      <td>False</td>\n",
       "      <td>303</td>\n",
       "      <td>101.000000</td>\n",
       "    </tr>\n",
       "    <tr>\n",
       "      <th>4</th>\n",
       "      <td>4</td>\n",
       "      <td>Charmander</td>\n",
       "      <td>Fire</td>\n",
       "      <td>NaN</td>\n",
       "      <td>309</td>\n",
       "      <td>39</td>\n",
       "      <td>52</td>\n",
       "      <td>43</td>\n",
       "      <td>60</td>\n",
       "      <td>50</td>\n",
       "      <td>65</td>\n",
       "      <td>1</td>\n",
       "      <td>False</td>\n",
       "      <td>134</td>\n",
       "      <td>44.666667</td>\n",
       "    </tr>\n",
       "  </tbody>\n",
       "</table>\n",
       "</div>"
      ],
      "text/plain": [
       "   #                   Name Type 1  Type 2  Total  HP  Attack  Defense  \\\n",
       "0  1              Bulbasaur  Grass  Poison    318  45      49       49   \n",
       "1  2                Ivysaur  Grass  Poison    405  60      62       63   \n",
       "2  3               Venusaur  Grass  Poison    525  80      82       83   \n",
       "3  3  VenusaurMega Venusaur  Grass  Poison    625  80     100      123   \n",
       "4  4             Charmander   Fire     NaN    309  39      52       43   \n",
       "\n",
       "   Sp. Atk  Sp. Def  Speed  Generation  Legendary  total         per  \n",
       "0       65       65     45           1      False    143   47.666667  \n",
       "1       80       80     60           1      False    185   61.666667  \n",
       "2      100      100     80           1      False    245   81.666667  \n",
       "3      122      120     80           1      False    303  101.000000  \n",
       "4       60       50     65           1      False    134   44.666667  "
      ]
     },
     "execution_count": 40,
     "metadata": {},
     "output_type": "execute_result"
    }
   ],
   "source": [
    "stud['per']=(stud['total'])*100/300\n",
    "print(stud)\n",
    "stud.head(5)                                            # print per of the total"
   ]
  },
  {
   "cell_type": "code",
   "execution_count": 44,
   "id": "c5eca35b",
   "metadata": {},
   "outputs": [
    {
     "data": {
      "text/html": [
       "<div>\n",
       "<style scoped>\n",
       "    .dataframe tbody tr th:only-of-type {\n",
       "        vertical-align: middle;\n",
       "    }\n",
       "\n",
       "    .dataframe tbody tr th {\n",
       "        vertical-align: top;\n",
       "    }\n",
       "\n",
       "    .dataframe thead th {\n",
       "        text-align: right;\n",
       "    }\n",
       "</style>\n",
       "<table border=\"1\" class=\"dataframe\">\n",
       "  <thead>\n",
       "    <tr style=\"text-align: right;\">\n",
       "      <th></th>\n",
       "      <th>#</th>\n",
       "      <th>Name</th>\n",
       "      <th>Type 1</th>\n",
       "      <th>Type 2</th>\n",
       "      <th>Total</th>\n",
       "      <th>HP</th>\n",
       "      <th>Attack</th>\n",
       "      <th>Defense</th>\n",
       "      <th>Sp. Atk</th>\n",
       "      <th>Sp. Def</th>\n",
       "      <th>Speed</th>\n",
       "      <th>Generation</th>\n",
       "      <th>Legendary</th>\n",
       "      <th>total</th>\n",
       "      <th>per</th>\n",
       "    </tr>\n",
       "  </thead>\n",
       "  <tbody>\n",
       "    <tr>\n",
       "      <th>381</th>\n",
       "      <td>349</td>\n",
       "      <td>Feebas</td>\n",
       "      <td>Water</td>\n",
       "      <td>NaN</td>\n",
       "      <td>200</td>\n",
       "      <td>20</td>\n",
       "      <td>15</td>\n",
       "      <td>20</td>\n",
       "      <td>10</td>\n",
       "      <td>55</td>\n",
       "      <td>80</td>\n",
       "      <td>3</td>\n",
       "      <td>False</td>\n",
       "      <td>55</td>\n",
       "      <td>18.333333</td>\n",
       "    </tr>\n",
       "    <tr>\n",
       "      <th>68</th>\n",
       "      <td>63</td>\n",
       "      <td>Abra</td>\n",
       "      <td>Psychic</td>\n",
       "      <td>NaN</td>\n",
       "      <td>310</td>\n",
       "      <td>25</td>\n",
       "      <td>20</td>\n",
       "      <td>15</td>\n",
       "      <td>105</td>\n",
       "      <td>55</td>\n",
       "      <td>90</td>\n",
       "      <td>1</td>\n",
       "      <td>False</td>\n",
       "      <td>60</td>\n",
       "      <td>20.000000</td>\n",
       "    </tr>\n",
       "    <tr>\n",
       "      <th>186</th>\n",
       "      <td>172</td>\n",
       "      <td>Pichu</td>\n",
       "      <td>Electric</td>\n",
       "      <td>NaN</td>\n",
       "      <td>205</td>\n",
       "      <td>20</td>\n",
       "      <td>40</td>\n",
       "      <td>15</td>\n",
       "      <td>35</td>\n",
       "      <td>35</td>\n",
       "      <td>60</td>\n",
       "      <td>2</td>\n",
       "      <td>False</td>\n",
       "      <td>75</td>\n",
       "      <td>25.000000</td>\n",
       "    </tr>\n",
       "    <tr>\n",
       "      <th>303</th>\n",
       "      <td>280</td>\n",
       "      <td>Ralts</td>\n",
       "      <td>Psychic</td>\n",
       "      <td>Fairy</td>\n",
       "      <td>198</td>\n",
       "      <td>28</td>\n",
       "      <td>25</td>\n",
       "      <td>25</td>\n",
       "      <td>45</td>\n",
       "      <td>35</td>\n",
       "      <td>40</td>\n",
       "      <td>3</td>\n",
       "      <td>False</td>\n",
       "      <td>78</td>\n",
       "      <td>26.000000</td>\n",
       "    </tr>\n",
       "    <tr>\n",
       "      <th>139</th>\n",
       "      <td>129</td>\n",
       "      <td>Magikarp</td>\n",
       "      <td>Water</td>\n",
       "      <td>NaN</td>\n",
       "      <td>200</td>\n",
       "      <td>20</td>\n",
       "      <td>10</td>\n",
       "      <td>55</td>\n",
       "      <td>15</td>\n",
       "      <td>20</td>\n",
       "      <td>80</td>\n",
       "      <td>1</td>\n",
       "      <td>False</td>\n",
       "      <td>85</td>\n",
       "      <td>28.333333</td>\n",
       "    </tr>\n",
       "    <tr>\n",
       "      <th>...</th>\n",
       "      <td>...</td>\n",
       "      <td>...</td>\n",
       "      <td>...</td>\n",
       "      <td>...</td>\n",
       "      <td>...</td>\n",
       "      <td>...</td>\n",
       "      <td>...</td>\n",
       "      <td>...</td>\n",
       "      <td>...</td>\n",
       "      <td>...</td>\n",
       "      <td>...</td>\n",
       "      <td>...</td>\n",
       "      <td>...</td>\n",
       "      <td>...</td>\n",
       "      <td>...</td>\n",
       "    </tr>\n",
       "    <tr>\n",
       "      <th>313</th>\n",
       "      <td>289</td>\n",
       "      <td>Slaking</td>\n",
       "      <td>Normal</td>\n",
       "      <td>NaN</td>\n",
       "      <td>670</td>\n",
       "      <td>150</td>\n",
       "      <td>160</td>\n",
       "      <td>100</td>\n",
       "      <td>95</td>\n",
       "      <td>65</td>\n",
       "      <td>100</td>\n",
       "      <td>3</td>\n",
       "      <td>False</td>\n",
       "      <td>410</td>\n",
       "      <td>136.666667</td>\n",
       "    </tr>\n",
       "    <tr>\n",
       "      <th>268</th>\n",
       "      <td>248</td>\n",
       "      <td>TyranitarMega Tyranitar</td>\n",
       "      <td>Rock</td>\n",
       "      <td>Dark</td>\n",
       "      <td>700</td>\n",
       "      <td>100</td>\n",
       "      <td>164</td>\n",
       "      <td>150</td>\n",
       "      <td>95</td>\n",
       "      <td>120</td>\n",
       "      <td>71</td>\n",
       "      <td>2</td>\n",
       "      <td>False</td>\n",
       "      <td>414</td>\n",
       "      <td>138.000000</td>\n",
       "    </tr>\n",
       "    <tr>\n",
       "      <th>224</th>\n",
       "      <td>208</td>\n",
       "      <td>SteelixMega Steelix</td>\n",
       "      <td>Steel</td>\n",
       "      <td>Ground</td>\n",
       "      <td>610</td>\n",
       "      <td>75</td>\n",
       "      <td>125</td>\n",
       "      <td>230</td>\n",
       "      <td>55</td>\n",
       "      <td>95</td>\n",
       "      <td>30</td>\n",
       "      <td>2</td>\n",
       "      <td>False</td>\n",
       "      <td>430</td>\n",
       "      <td>143.333333</td>\n",
       "    </tr>\n",
       "    <tr>\n",
       "      <th>424</th>\n",
       "      <td>383</td>\n",
       "      <td>GroudonPrimal Groudon</td>\n",
       "      <td>Ground</td>\n",
       "      <td>Fire</td>\n",
       "      <td>770</td>\n",
       "      <td>100</td>\n",
       "      <td>180</td>\n",
       "      <td>160</td>\n",
       "      <td>150</td>\n",
       "      <td>90</td>\n",
       "      <td>90</td>\n",
       "      <td>3</td>\n",
       "      <td>True</td>\n",
       "      <td>440</td>\n",
       "      <td>146.666667</td>\n",
       "    </tr>\n",
       "    <tr>\n",
       "      <th>333</th>\n",
       "      <td>306</td>\n",
       "      <td>AggronMega Aggron</td>\n",
       "      <td>Steel</td>\n",
       "      <td>NaN</td>\n",
       "      <td>630</td>\n",
       "      <td>70</td>\n",
       "      <td>140</td>\n",
       "      <td>230</td>\n",
       "      <td>60</td>\n",
       "      <td>80</td>\n",
       "      <td>50</td>\n",
       "      <td>3</td>\n",
       "      <td>False</td>\n",
       "      <td>440</td>\n",
       "      <td>146.666667</td>\n",
       "    </tr>\n",
       "  </tbody>\n",
       "</table>\n",
       "<p>800 rows × 15 columns</p>\n",
       "</div>"
      ],
      "text/plain": [
       "       #                     Name    Type 1  Type 2  Total   HP  Attack  \\\n",
       "381  349                   Feebas     Water     NaN    200   20      15   \n",
       "68    63                     Abra   Psychic     NaN    310   25      20   \n",
       "186  172                    Pichu  Electric     NaN    205   20      40   \n",
       "303  280                    Ralts   Psychic   Fairy    198   28      25   \n",
       "139  129                 Magikarp     Water     NaN    200   20      10   \n",
       "..   ...                      ...       ...     ...    ...  ...     ...   \n",
       "313  289                  Slaking    Normal     NaN    670  150     160   \n",
       "268  248  TyranitarMega Tyranitar      Rock    Dark    700  100     164   \n",
       "224  208      SteelixMega Steelix     Steel  Ground    610   75     125   \n",
       "424  383    GroudonPrimal Groudon    Ground    Fire    770  100     180   \n",
       "333  306        AggronMega Aggron     Steel     NaN    630   70     140   \n",
       "\n",
       "     Defense  Sp. Atk  Sp. Def  Speed  Generation  Legendary  total  \\\n",
       "381       20       10       55     80           3      False     55   \n",
       "68        15      105       55     90           1      False     60   \n",
       "186       15       35       35     60           2      False     75   \n",
       "303       25       45       35     40           3      False     78   \n",
       "139       55       15       20     80           1      False     85   \n",
       "..       ...      ...      ...    ...         ...        ...    ...   \n",
       "313      100       95       65    100           3      False    410   \n",
       "268      150       95      120     71           2      False    414   \n",
       "224      230       55       95     30           2      False    430   \n",
       "424      160      150       90     90           3       True    440   \n",
       "333      230       60       80     50           3      False    440   \n",
       "\n",
       "            per  \n",
       "381   18.333333  \n",
       "68    20.000000  \n",
       "186   25.000000  \n",
       "303   26.000000  \n",
       "139   28.333333  \n",
       "..          ...  \n",
       "313  136.666667  \n",
       "268  138.000000  \n",
       "224  143.333333  \n",
       "424  146.666667  \n",
       "333  146.666667  \n",
       "\n",
       "[800 rows x 15 columns]"
      ]
     },
     "execution_count": 44,
     "metadata": {},
     "output_type": "execute_result"
    }
   ],
   "source": [
    "stud.sort_values(['per'],ascending=1)                          # give output in descending order"
   ]
  }
 ],
 "metadata": {
  "kernelspec": {
   "display_name": "Python 3 (ipykernel)",
   "language": "python",
   "name": "python3"
  },
  "language_info": {
   "codemirror_mode": {
    "name": "ipython",
    "version": 3
   },
   "file_extension": ".py",
   "mimetype": "text/x-python",
   "name": "python",
   "nbconvert_exporter": "python",
   "pygments_lexer": "ipython3",
   "version": "3.11.5"
  }
 },
 "nbformat": 4,
 "nbformat_minor": 5
}
